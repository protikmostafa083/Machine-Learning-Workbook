{
 "cells": [
  {
   "cell_type": "markdown",
   "metadata": {
    "collapsed": true,
    "pycharm": {
     "name": "#%% md\n"
    }
   },
   "source": [
    "Import Libraries"
   ]
  },
  {
   "cell_type": "code",
   "execution_count": 47,
   "outputs": [],
   "source": [
    "import nltk\n",
    "from nltk.corpus import stopwords\n",
    "from gensim.models import Word2Vec\n",
    "import re"
   ],
   "metadata": {
    "collapsed": false,
    "pycharm": {
     "name": "#%%\n"
    }
   }
  },
  {
   "cell_type": "code",
   "source": [
    "paragraph = '''I have three visions for India.\n",
    "\n",
    "In 3000 years of our history, people from allover the world have come and invaded us, captured our lands, conquered our minds. From Alexander onwards. The Greeks, the Portuguese, the British, the French, the Dutch, all of them came and looted us, took over what was ours. Yet we have not done this to any other nation. We have not conquered anyone. We have not grabbed their land, their culture, their history tried to enforce our way of life on them. Why? Because we respect the freedom of others.\n",
    "\n",
    "That is why my first vision is that of FREEDOM.\n",
    "\n",
    "I believe that India got its first vision of this in 1857, when we started the war of independence. It is this freedom that we must protect and nurture and built on. If we are not free, no one will respect us.\n",
    "\n",
    "My second vision for India is DEVELOPMENT.\n",
    "\n",
    "For fifty years we have been a developing nation. It is time we see ourselves as a developed nation. We are among top 5 nations of the world in terms of GDP. We have 10 percent growth rate in most areas. Our poverty levels are falling, our achievements are being globally recognized today. Yet we lack the self-confidence to see ourselves as a developed nation, self reliant and self assured. Isn't this right?\n",
    "\n",
    "I have a third vision. The India must stand up to the world. Because I believe that unless India stands up to the world, no one will respect us. Only strength respects strength. We must be strong not only as a military power but also as an economic power. Both must go hand-in-hand.\n",
    "\n",
    "My good fortune was to have work with three great minds. Dr Vikram Sarabhai of the Dept. of space, Professor Satish Dhawan, who succeeded him, and Dr.Brahm Prakash, father of nuclear material. I was lucky to have worked with all three of them closely and consider this the great opportunity of my life.\n",
    "\n",
    "I see four milestones in my career.'''"
   ],
   "metadata": {
    "collapsed": false,
    "pycharm": {
     "name": "#%%\n"
    }
   },
   "execution_count": 48,
   "outputs": []
  },
  {
   "cell_type": "markdown",
   "source": [
    "Preprocess the data"
   ],
   "metadata": {
    "collapsed": false,
    "pycharm": {
     "name": "#%% md\n"
    }
   }
  },
  {
   "cell_type": "code",
   "execution_count": 49,
   "outputs": [],
   "source": [
    "text = re.sub(r'\\[[0-9]*\\]', ' ', paragraph)\n",
    "text = re.sub(r'\\s+', ' ', text)\n",
    "text = text.lower()\n",
    "text = re.sub(r'\\d', ' ', text)\n",
    "text = re.sub(r'\\s+', ' ', text)"
   ],
   "metadata": {
    "collapsed": false,
    "pycharm": {
     "name": "#%%\n"
    }
   }
  },
  {
   "cell_type": "code",
   "execution_count": 50,
   "outputs": [
    {
     "data": {
      "text/plain": "\"i have three visions for india. in years of our history, people from allover the world have come and invaded us, captured our lands, conquered our minds. from alexander onwards. the greeks, the portuguese, the british, the french, the dutch, all of them came and looted us, took over what was ours. yet we have not done this to any other nation. we have not conquered anyone. we have not grabbed their land, their culture, their history tried to enforce our way of life on them. why? because we respect the freedom of others. that is why my first vision is that of freedom. i believe that india got its first vision of this in , when we started the war of independence. it is this freedom that we must protect and nurture and built on. if we are not free, no one will respect us. my second vision for india is development. for fifty years we have been a developing nation. it is time we see ourselves as a developed nation. we are among top nations of the world in terms of gdp. we have percent growth rate in most areas. our poverty levels are falling, our achievements are being globally recognized today. yet we lack the self-confidence to see ourselves as a developed nation, self reliant and self assured. isn't this right? i have a third vision. the india must stand up to the world. because i believe that unless india stands up to the world, no one will respect us. only strength respects strength. we must be strong not only as a military power but also as an economic power. both must go hand-in-hand. my good fortune was to have work with three great minds. dr vikram sarabhai of the dept. of space, professor satish dhawan, who succeeded him, and dr.brahm prakash, father of nuclear material. i was lucky to have worked with all three of them closely and consider this the great opportunity of my life. i see four milestones in my career.\""
     },
     "execution_count": 50,
     "metadata": {},
     "output_type": "execute_result"
    }
   ],
   "source": [
    "text"
   ],
   "metadata": {
    "collapsed": false,
    "pycharm": {
     "name": "#%%\n"
    }
   }
  },
  {
   "cell_type": "markdown",
   "source": [
    "Convert the text into sentences - Tokenize"
   ],
   "metadata": {
    "collapsed": false,
    "pycharm": {
     "name": "#%% md\n"
    }
   }
  },
  {
   "cell_type": "code",
   "execution_count": 51,
   "outputs": [],
   "source": [
    "sentences = nltk.sent_tokenize(text)"
   ],
   "metadata": {
    "collapsed": false,
    "pycharm": {
     "name": "#%%\n"
    }
   }
  },
  {
   "cell_type": "code",
   "execution_count": 52,
   "outputs": [
    {
     "data": {
      "text/plain": "['i have three visions for india.',\n 'in years of our history, people from allover the world have come and invaded us, captured our lands, conquered our minds.',\n 'from alexander onwards.',\n 'the greeks, the portuguese, the british, the french, the dutch, all of them came and looted us, took over what was ours.',\n 'yet we have not done this to any other nation.',\n 'we have not conquered anyone.',\n 'we have not grabbed their land, their culture, their history tried to enforce our way of life on them.',\n 'why?',\n 'because we respect the freedom of others.',\n 'that is why my first vision is that of freedom.',\n 'i believe that india got its first vision of this in , when we started the war of independence.',\n 'it is this freedom that we must protect and nurture and built on.',\n 'if we are not free, no one will respect us.',\n 'my second vision for india is development.',\n 'for fifty years we have been a developing nation.',\n 'it is time we see ourselves as a developed nation.',\n 'we are among top nations of the world in terms of gdp.',\n 'we have percent growth rate in most areas.',\n 'our poverty levels are falling, our achievements are being globally recognized today.',\n 'yet we lack the self-confidence to see ourselves as a developed nation, self reliant and self assured.',\n \"isn't this right?\",\n 'i have a third vision.',\n 'the india must stand up to the world.',\n 'because i believe that unless india stands up to the world, no one will respect us.',\n 'only strength respects strength.',\n 'we must be strong not only as a military power but also as an economic power.',\n 'both must go hand-in-hand.',\n 'my good fortune was to have work with three great minds.',\n 'dr vikram sarabhai of the dept.',\n 'of space, professor satish dhawan, who succeeded him, and dr.brahm prakash, father of nuclear material.',\n 'i was lucky to have worked with all three of them closely and consider this the great opportunity of my life.',\n 'i see four milestones in my career.']"
     },
     "execution_count": 52,
     "metadata": {},
     "output_type": "execute_result"
    }
   ],
   "source": [
    "sentences"
   ],
   "metadata": {
    "collapsed": false,
    "pycharm": {
     "name": "#%%\n"
    }
   }
  },
  {
   "cell_type": "markdown",
   "source": [
    "Remove the unnecessary words"
   ],
   "metadata": {
    "collapsed": false,
    "pycharm": {
     "name": "#%% md\n"
    }
   }
  },
  {
   "cell_type": "code",
   "execution_count": 54,
   "outputs": [],
   "source": [
    "sentences = [nltk.word_tokenize(sentence) for sentence in sentences]"
   ],
   "metadata": {
    "collapsed": false,
    "pycharm": {
     "name": "#%%\n"
    }
   }
  },
  {
   "cell_type": "code",
   "execution_count": 55,
   "outputs": [],
   "source": [
    "for i in range(len(sentences)):\n",
    "    sentences[i] = [word for word in sentences[i] if word not in stopwords.words('english')]"
   ],
   "metadata": {
    "collapsed": false,
    "pycharm": {
     "name": "#%%\n"
    }
   }
  },
  {
   "cell_type": "code",
   "execution_count": 56,
   "outputs": [
    {
     "data": {
      "text/plain": "[['three', 'visions', 'india', '.'],\n ['years',\n  'history',\n  ',',\n  'people',\n  'allover',\n  'world',\n  'come',\n  'invaded',\n  'us',\n  ',',\n  'captured',\n  'lands',\n  ',',\n  'conquered',\n  'minds',\n  '.'],\n ['alexander', 'onwards', '.'],\n ['greeks',\n  ',',\n  'portuguese',\n  ',',\n  'british',\n  ',',\n  'french',\n  ',',\n  'dutch',\n  ',',\n  'came',\n  'looted',\n  'us',\n  ',',\n  'took',\n  '.'],\n ['yet', 'done', 'nation', '.'],\n ['conquered', 'anyone', '.'],\n ['grabbed',\n  'land',\n  ',',\n  'culture',\n  ',',\n  'history',\n  'tried',\n  'enforce',\n  'way',\n  'life',\n  '.'],\n ['?'],\n ['respect', 'freedom', 'others', '.'],\n ['first', 'vision', 'freedom', '.'],\n ['believe',\n  'india',\n  'got',\n  'first',\n  'vision',\n  ',',\n  'started',\n  'war',\n  'independence',\n  '.'],\n ['freedom', 'must', 'protect', 'nurture', 'built', '.'],\n ['free', ',', 'one', 'respect', 'us', '.'],\n ['second', 'vision', 'india', 'development', '.'],\n ['fifty', 'years', 'developing', 'nation', '.'],\n ['time', 'see', 'developed', 'nation', '.'],\n ['among', 'top', 'nations', 'world', 'terms', 'gdp', '.'],\n ['percent', 'growth', 'rate', 'areas', '.'],\n ['poverty',\n  'levels',\n  'falling',\n  ',',\n  'achievements',\n  'globally',\n  'recognized',\n  'today',\n  '.'],\n ['yet',\n  'lack',\n  'self-confidence',\n  'see',\n  'developed',\n  'nation',\n  ',',\n  'self',\n  'reliant',\n  'self',\n  'assured',\n  '.'],\n [\"n't\", 'right', '?'],\n ['third', 'vision', '.'],\n ['india', 'must', 'stand', 'world', '.'],\n ['believe',\n  'unless',\n  'india',\n  'stands',\n  'world',\n  ',',\n  'one',\n  'respect',\n  'us',\n  '.'],\n ['strength', 'respects', 'strength', '.'],\n ['must', 'strong', 'military', 'power', 'also', 'economic', 'power', '.'],\n ['must', 'go', 'hand-in-hand', '.'],\n ['good', 'fortune', 'work', 'three', 'great', 'minds', '.'],\n ['dr', 'vikram', 'sarabhai', 'dept', '.'],\n ['space',\n  ',',\n  'professor',\n  'satish',\n  'dhawan',\n  ',',\n  'succeeded',\n  ',',\n  'dr.brahm',\n  'prakash',\n  ',',\n  'father',\n  'nuclear',\n  'material',\n  '.'],\n ['lucky',\n  'worked',\n  'three',\n  'closely',\n  'consider',\n  'great',\n  'opportunity',\n  'life',\n  '.'],\n ['see', 'four', 'milestones', 'career', '.']]"
     },
     "execution_count": 56,
     "metadata": {},
     "output_type": "execute_result"
    }
   ],
   "source": [
    "sentences"
   ],
   "metadata": {
    "collapsed": false,
    "pycharm": {
     "name": "#%%\n"
    }
   }
  },
  {
   "cell_type": "markdown",
   "source": [
    "Training word2vec model"
   ],
   "metadata": {
    "collapsed": false,
    "pycharm": {
     "name": "#%% md\n"
    }
   }
  },
  {
   "cell_type": "code",
   "execution_count": 57,
   "outputs": [],
   "source": [
    "model = Word2Vec(sentences,min_count=1)              # min_count = 1, It is going to ignore the word if the word count is less than 1"
   ],
   "metadata": {
    "collapsed": false,
    "pycharm": {
     "name": "#%%\n"
    }
   }
  },
  {
   "cell_type": "code",
   "execution_count": 58,
   "outputs": [],
   "source": [
    "words = model.wv.vocab"
   ],
   "metadata": {
    "collapsed": false,
    "pycharm": {
     "name": "#%%\n"
    }
   }
  },
  {
   "cell_type": "markdown",
   "source": [
    "to check out the vector of any particular word"
   ],
   "metadata": {
    "collapsed": false,
    "pycharm": {
     "name": "#%% md\n"
    }
   }
  },
  {
   "cell_type": "code",
   "execution_count": 59,
   "outputs": [],
   "source": [
    "vector = model.wv['war']        # 100 Dimension"
   ],
   "metadata": {
    "collapsed": false,
    "pycharm": {
     "name": "#%%\n"
    }
   }
  },
  {
   "cell_type": "markdown",
   "source": [
    "Find out similar words"
   ],
   "metadata": {
    "collapsed": false,
    "pycharm": {
     "name": "#%% md\n"
    }
   }
  },
  {
   "cell_type": "code",
   "execution_count": 63,
   "outputs": [],
   "source": [
    "similar = model.wv.most_similar('vikram')"
   ],
   "metadata": {
    "collapsed": false,
    "pycharm": {
     "name": "#%%\n"
    }
   }
  }
 ],
 "metadata": {
  "kernelspec": {
   "display_name": "Python 3",
   "language": "python",
   "name": "python3"
  },
  "language_info": {
   "codemirror_mode": {
    "name": "ipython",
    "version": 2
   },
   "file_extension": ".py",
   "mimetype": "text/x-python",
   "name": "python",
   "nbconvert_exporter": "python",
   "pygments_lexer": "ipython2",
   "version": "2.7.6"
  }
 },
 "nbformat": 4,
 "nbformat_minor": 0
}