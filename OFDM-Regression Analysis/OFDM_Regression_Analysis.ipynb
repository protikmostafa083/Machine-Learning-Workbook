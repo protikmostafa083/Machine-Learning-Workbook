{
  "nbformat": 4,
  "nbformat_minor": 0,
  "metadata": {
    "colab": {
      "name": "OFDM Regression Analysis.ipynb",
      "provenance": [],
      "collapsed_sections": []
    },
    "kernelspec": {
      "name": "python3",
      "display_name": "Python 3"
    },
    "language_info": {
      "name": "python"
    }
  },
  "cells": [
    {
      "cell_type": "code",
      "metadata": {
        "id": "GB5cDLpYy3dQ"
      },
      "source": [
        "import numpy as np\n",
        "import pandas as pd\n",
        "import seaborn as sns"
      ],
      "execution_count": null,
      "outputs": []
    },
    {
      "cell_type": "code",
      "metadata": {
        "id": "UT1yFwdbzCck"
      },
      "source": [
        "df = pd.read_csv('train.csv')"
      ],
      "execution_count": null,
      "outputs": []
    },
    {
      "cell_type": "code",
      "metadata": {
        "colab": {
          "base_uri": "https://localhost:8080/",
          "height": 204
        },
        "id": "yKhMY0kdzZSS",
        "outputId": "ce8302d7-7093-4273-edb4-28074025bcbd"
      },
      "source": [
        "df.head()"
      ],
      "execution_count": null,
      "outputs": [
        {
          "output_type": "execute_result",
          "data": {
            "text/html": [
              "<div>\n",
              "<style scoped>\n",
              "    .dataframe tbody tr th:only-of-type {\n",
              "        vertical-align: middle;\n",
              "    }\n",
              "\n",
              "    .dataframe tbody tr th {\n",
              "        vertical-align: top;\n",
              "    }\n",
              "\n",
              "    .dataframe thead th {\n",
              "        text-align: right;\n",
              "    }\n",
              "</style>\n",
              "<table border=\"1\" class=\"dataframe\">\n",
              "  <thead>\n",
              "    <tr style=\"text-align: right;\">\n",
              "      <th></th>\n",
              "      <th>Number of Subcarrier</th>\n",
              "      <th>Signal Constellation</th>\n",
              "      <th>Eb/No</th>\n",
              "      <th>ofdm_std</th>\n",
              "      <th>ofdm_max</th>\n",
              "      <th>BER</th>\n",
              "      <th>Unnamed: 6</th>\n",
              "    </tr>\n",
              "  </thead>\n",
              "  <tbody>\n",
              "    <tr>\n",
              "      <th>0</th>\n",
              "      <td>1024</td>\n",
              "      <td>4</td>\n",
              "      <td>8.0</td>\n",
              "      <td>0.020590</td>\n",
              "      <td>0.119134</td>\n",
              "      <td>0.000120</td>\n",
              "      <td>NaN</td>\n",
              "    </tr>\n",
              "    <tr>\n",
              "      <th>1</th>\n",
              "      <td>512</td>\n",
              "      <td>4</td>\n",
              "      <td>8.0</td>\n",
              "      <td>0.029397</td>\n",
              "      <td>0.190842</td>\n",
              "      <td>0.000179</td>\n",
              "      <td>NaN</td>\n",
              "    </tr>\n",
              "    <tr>\n",
              "      <th>2</th>\n",
              "      <td>256</td>\n",
              "      <td>4</td>\n",
              "      <td>8.0</td>\n",
              "      <td>0.044601</td>\n",
              "      <td>0.197412</td>\n",
              "      <td>0.000160</td>\n",
              "      <td>NaN</td>\n",
              "    </tr>\n",
              "    <tr>\n",
              "      <th>3</th>\n",
              "      <td>128</td>\n",
              "      <td>4</td>\n",
              "      <td>8.0</td>\n",
              "      <td>0.059644</td>\n",
              "      <td>0.267715</td>\n",
              "      <td>0.000220</td>\n",
              "      <td>NaN</td>\n",
              "    </tr>\n",
              "    <tr>\n",
              "      <th>4</th>\n",
              "      <td>64</td>\n",
              "      <td>4</td>\n",
              "      <td>8.0</td>\n",
              "      <td>0.079258</td>\n",
              "      <td>0.351700</td>\n",
              "      <td>0.000140</td>\n",
              "      <td>NaN</td>\n",
              "    </tr>\n",
              "  </tbody>\n",
              "</table>\n",
              "</div>"
            ],
            "text/plain": [
              "   Number of Subcarrier  Signal Constellation  ...       BER  Unnamed: 6\n",
              "0                  1024                     4  ...  0.000120         NaN\n",
              "1                   512                     4  ...  0.000179         NaN\n",
              "2                   256                     4  ...  0.000160         NaN\n",
              "3                   128                     4  ...  0.000220         NaN\n",
              "4                    64                     4  ...  0.000140         NaN\n",
              "\n",
              "[5 rows x 7 columns]"
            ]
          },
          "metadata": {
            "tags": []
          },
          "execution_count": 80
        }
      ]
    },
    {
      "cell_type": "code",
      "metadata": {
        "colab": {
          "base_uri": "https://localhost:8080/"
        },
        "id": "JC5lGOQpzaq7",
        "outputId": "1ebd9a29-7ed2-4f55-d004-04d3a45c0fe1"
      },
      "source": [
        "df.shape"
      ],
      "execution_count": null,
      "outputs": [
        {
          "output_type": "execute_result",
          "data": {
            "text/plain": [
              "(35, 7)"
            ]
          },
          "metadata": {
            "tags": []
          },
          "execution_count": 81
        }
      ]
    },
    {
      "cell_type": "code",
      "metadata": {
        "colab": {
          "base_uri": "https://localhost:8080/"
        },
        "id": "XsfLlNsAzkGF",
        "outputId": "640ee662-5d7f-4736-afc2-649523b5e423"
      },
      "source": [
        "df.info()"
      ],
      "execution_count": null,
      "outputs": [
        {
          "output_type": "stream",
          "text": [
            "<class 'pandas.core.frame.DataFrame'>\n",
            "RangeIndex: 35 entries, 0 to 34\n",
            "Data columns (total 7 columns):\n",
            " #   Column                Non-Null Count  Dtype  \n",
            "---  ------                --------------  -----  \n",
            " 0   Number of Subcarrier  35 non-null     int64  \n",
            " 1   Signal Constellation  35 non-null     int64  \n",
            " 2   Eb/No                 35 non-null     float64\n",
            " 3   ofdm_std              35 non-null     float64\n",
            " 4   ofdm_max              35 non-null     float64\n",
            " 5   BER                   35 non-null     float64\n",
            " 6   Unnamed: 6            0 non-null      float64\n",
            "dtypes: float64(5), int64(2)\n",
            "memory usage: 2.0 KB\n"
          ],
          "name": "stdout"
        }
      ]
    },
    {
      "cell_type": "code",
      "metadata": {
        "colab": {
          "base_uri": "https://localhost:8080/",
          "height": 204
        },
        "id": "QgmmvwRjznvv",
        "outputId": "17e2a9f5-28c9-4710-e737-18d2d4f5fda2"
      },
      "source": [
        "df.drop('Unnamed: 6', axis = 1).head(5)"
      ],
      "execution_count": null,
      "outputs": [
        {
          "output_type": "execute_result",
          "data": {
            "text/html": [
              "<div>\n",
              "<style scoped>\n",
              "    .dataframe tbody tr th:only-of-type {\n",
              "        vertical-align: middle;\n",
              "    }\n",
              "\n",
              "    .dataframe tbody tr th {\n",
              "        vertical-align: top;\n",
              "    }\n",
              "\n",
              "    .dataframe thead th {\n",
              "        text-align: right;\n",
              "    }\n",
              "</style>\n",
              "<table border=\"1\" class=\"dataframe\">\n",
              "  <thead>\n",
              "    <tr style=\"text-align: right;\">\n",
              "      <th></th>\n",
              "      <th>Number of Subcarrier</th>\n",
              "      <th>Signal Constellation</th>\n",
              "      <th>Eb/No</th>\n",
              "      <th>ofdm_std</th>\n",
              "      <th>ofdm_max</th>\n",
              "      <th>BER</th>\n",
              "    </tr>\n",
              "  </thead>\n",
              "  <tbody>\n",
              "    <tr>\n",
              "      <th>0</th>\n",
              "      <td>1024</td>\n",
              "      <td>4</td>\n",
              "      <td>8.0</td>\n",
              "      <td>0.020590</td>\n",
              "      <td>0.119134</td>\n",
              "      <td>0.000120</td>\n",
              "    </tr>\n",
              "    <tr>\n",
              "      <th>1</th>\n",
              "      <td>512</td>\n",
              "      <td>4</td>\n",
              "      <td>8.0</td>\n",
              "      <td>0.029397</td>\n",
              "      <td>0.190842</td>\n",
              "      <td>0.000179</td>\n",
              "    </tr>\n",
              "    <tr>\n",
              "      <th>2</th>\n",
              "      <td>256</td>\n",
              "      <td>4</td>\n",
              "      <td>8.0</td>\n",
              "      <td>0.044601</td>\n",
              "      <td>0.197412</td>\n",
              "      <td>0.000160</td>\n",
              "    </tr>\n",
              "    <tr>\n",
              "      <th>3</th>\n",
              "      <td>128</td>\n",
              "      <td>4</td>\n",
              "      <td>8.0</td>\n",
              "      <td>0.059644</td>\n",
              "      <td>0.267715</td>\n",
              "      <td>0.000220</td>\n",
              "    </tr>\n",
              "    <tr>\n",
              "      <th>4</th>\n",
              "      <td>64</td>\n",
              "      <td>4</td>\n",
              "      <td>8.0</td>\n",
              "      <td>0.079258</td>\n",
              "      <td>0.351700</td>\n",
              "      <td>0.000140</td>\n",
              "    </tr>\n",
              "  </tbody>\n",
              "</table>\n",
              "</div>"
            ],
            "text/plain": [
              "   Number of Subcarrier  Signal Constellation  ...  ofdm_max       BER\n",
              "0                  1024                     4  ...  0.119134  0.000120\n",
              "1                   512                     4  ...  0.190842  0.000179\n",
              "2                   256                     4  ...  0.197412  0.000160\n",
              "3                   128                     4  ...  0.267715  0.000220\n",
              "4                    64                     4  ...  0.351700  0.000140\n",
              "\n",
              "[5 rows x 6 columns]"
            ]
          },
          "metadata": {
            "tags": []
          },
          "execution_count": 83
        }
      ]
    },
    {
      "cell_type": "code",
      "metadata": {
        "colab": {
          "base_uri": "https://localhost:8080/",
          "height": 386
        },
        "id": "sqHpMef90HCv",
        "outputId": "5b26c6d4-30fc-40a7-f485-6fd4d2ac5f9e"
      },
      "source": [
        "sns.displot(df['ofdm_std'], bins = 20)"
      ],
      "execution_count": null,
      "outputs": [
        {
          "output_type": "execute_result",
          "data": {
            "text/plain": [
              "<seaborn.axisgrid.FacetGrid at 0x7f76fc6c3ed0>"
            ]
          },
          "metadata": {
            "tags": []
          },
          "execution_count": 84
        },
        {
          "output_type": "display_data",
          "data": {
            "image/png": "[encoded data removed]",
            "text/plain": [
              "<Figure size 360x360 with 1 Axes>"
            ]
          },
          "metadata": {
            "tags": [],
            "needs_background": "light"
          }
        }
      ]
    },
    {
      "cell_type": "code",
      "metadata": {
        "colab": {
          "base_uri": "https://localhost:8080/",
          "height": 351
        },
        "id": "eWcKecUS0YpO",
        "outputId": "5d2fcdc2-5786-47c2-de9e-10b0868b1b34"
      },
      "source": [
        "sns.boxplot(df['ofdm_std'])"
      ],
      "execution_count": null,
      "outputs": [
        {
          "output_type": "stream",
          "text": [
            "/usr/local/lib/python3.7/dist-packages/seaborn/_decorators.py:43: FutureWarning: Pass the following variable as a keyword arg: x. From version 0.12, the only valid positional argument will be `data`, and passing other arguments without an explicit keyword will result in an error or misinterpretation.\n",
            "  FutureWarning\n"
          ],
          "name": "stderr"
        },
        {
          "output_type": "execute_result",
          "data": {
            "text/plain": [
              "<matplotlib.axes._subplots.AxesSubplot at 0x7f76fc65cd90>"
            ]
          },
          "metadata": {
            "tags": []
          },
          "execution_count": 85
        },
        {
          "output_type": "display_data",
          "data": {
            "image/png": "[encoded data removed]",
            "text/plain": [
              "<Figure size 432x288 with 1 Axes>"
            ]
          },
          "metadata": {
            "tags": [],
            "needs_background": "light"
          }
        }
      ]
    },
    {
      "cell_type": "code",
      "metadata": {
        "colab": {
          "base_uri": "https://localhost:8080/",
          "height": 351
        },
        "id": "vXJubM9c2Itf",
        "outputId": "c8ba4be4-f5e2-4ac5-83f4-0ceff6ee037b"
      },
      "source": [
        "sns.boxplot(df['ofdm_max'])"
      ],
      "execution_count": null,
      "outputs": [
        {
          "output_type": "stream",
          "text": [
            "/usr/local/lib/python3.7/dist-packages/seaborn/_decorators.py:43: FutureWarning: Pass the following variable as a keyword arg: x. From version 0.12, the only valid positional argument will be `data`, and passing other arguments without an explicit keyword will result in an error or misinterpretation.\n",
            "  FutureWarning\n"
          ],
          "name": "stderr"
        },
        {
          "output_type": "execute_result",
          "data": {
            "text/plain": [
              "<matplotlib.axes._subplots.AxesSubplot at 0x7f76fc5db550>"
            ]
          },
          "metadata": {
            "tags": []
          },
          "execution_count": 86
        },
        {
          "output_type": "display_data",
          "data": {
            "image/png": "[encoded data removed]",
            "text/plain": [
              "<Figure size 432x288 with 1 Axes>"
            ]
          },
          "metadata": {
            "tags": [],
            "needs_background": "light"
          }
        }
      ]
    },
    {
      "cell_type": "code",
      "metadata": {
        "colab": {
          "base_uri": "https://localhost:8080/",
          "height": 350
        },
        "id": "reg_XHbO2LlK",
        "outputId": "47f01530-ef6f-46d5-bf99-b4842991e096"
      },
      "source": [
        "sns.boxplot(df['BER'])"
      ],
      "execution_count": null,
      "outputs": [
        {
          "output_type": "stream",
          "text": [
            "/usr/local/lib/python3.7/dist-packages/seaborn/_decorators.py:43: FutureWarning: Pass the following variable as a keyword arg: x. From version 0.12, the only valid positional argument will be `data`, and passing other arguments without an explicit keyword will result in an error or misinterpretation.\n",
            "  FutureWarning\n"
          ],
          "name": "stderr"
        },
        {
          "output_type": "execute_result",
          "data": {
            "text/plain": [
              "<matplotlib.axes._subplots.AxesSubplot at 0x7f76fc5461d0>"
            ]
          },
          "metadata": {
            "tags": []
          },
          "execution_count": 87
        },
        {
          "output_type": "display_data",
          "data": {
            "image/png": "[encoded data removed]",
            "text/plain": [
              "<Figure size 432x288 with 1 Axes>"
            ]
          },
          "metadata": {
            "tags": [],
            "needs_background": "light"
          }
        }
      ]
    },
    {
      "cell_type": "code",
      "metadata": {
        "colab": {
          "base_uri": "https://localhost:8080/",
          "height": 384
        },
        "id": "09QeSnV82oNW",
        "outputId": "caa5ae7b-5942-4285-f7a0-ed2cf8794aac"
      },
      "source": [
        "sns.heatmap(df.corr(),cmap='viridis')"
      ],
      "execution_count": null,
      "outputs": [
        {
          "output_type": "execute_result",
          "data": {
            "text/plain": [
              "<matplotlib.axes._subplots.AxesSubplot at 0x7f76fc65d990>"
            ]
          },
          "metadata": {
            "tags": []
          },
          "execution_count": 88
        },
        {
          "output_type": "display_data",
          "data": {
            "image/png": "[encoded data removed]",
            "text/plain": [
              "<Figure size 432x288 with 2 Axes>"
            ]
          },
          "metadata": {
            "tags": [],
            "needs_background": "light"
          }
        }
      ]
    },
    {
      "cell_type": "code",
      "metadata": {
        "id": "eXoHUbHl3ENd"
      },
      "source": [
        "x = df.drop(['Eb/No','Unnamed: 6'], axis = 1)\n",
        "y = df['Eb/No']"
      ],
      "execution_count": null,
      "outputs": []
    },
    {
      "cell_type": "code",
      "metadata": {
        "colab": {
          "base_uri": "https://localhost:8080/",
          "height": 204
        },
        "id": "MHxmbsLG6gzc",
        "outputId": "5cc162df-88fe-43b0-e2f6-42ac51e3ad86"
      },
      "source": [
        "x.head()"
      ],
      "execution_count": null,
      "outputs": [
        {
          "output_type": "execute_result",
          "data": {
            "text/html": [
              "<div>\n",
              "<style scoped>\n",
              "    .dataframe tbody tr th:only-of-type {\n",
              "        vertical-align: middle;\n",
              "    }\n",
              "\n",
              "    .dataframe tbody tr th {\n",
              "        vertical-align: top;\n",
              "    }\n",
              "\n",
              "    .dataframe thead th {\n",
              "        text-align: right;\n",
              "    }\n",
              "</style>\n",
              "<table border=\"1\" class=\"dataframe\">\n",
              "  <thead>\n",
              "    <tr style=\"text-align: right;\">\n",
              "      <th></th>\n",
              "      <th>Number of Subcarrier</th>\n",
              "      <th>Signal Constellation</th>\n",
              "      <th>ofdm_std</th>\n",
              "      <th>ofdm_max</th>\n",
              "      <th>BER</th>\n",
              "    </tr>\n",
              "  </thead>\n",
              "  <tbody>\n",
              "    <tr>\n",
              "      <th>0</th>\n",
              "      <td>1024</td>\n",
              "      <td>4</td>\n",
              "      <td>0.020590</td>\n",
              "      <td>0.119134</td>\n",
              "      <td>0.000120</td>\n",
              "    </tr>\n",
              "    <tr>\n",
              "      <th>1</th>\n",
              "      <td>512</td>\n",
              "      <td>4</td>\n",
              "      <td>0.029397</td>\n",
              "      <td>0.190842</td>\n",
              "      <td>0.000179</td>\n",
              "    </tr>\n",
              "    <tr>\n",
              "      <th>2</th>\n",
              "      <td>256</td>\n",
              "      <td>4</td>\n",
              "      <td>0.044601</td>\n",
              "      <td>0.197412</td>\n",
              "      <td>0.000160</td>\n",
              "    </tr>\n",
              "    <tr>\n",
              "      <th>3</th>\n",
              "      <td>128</td>\n",
              "      <td>4</td>\n",
              "      <td>0.059644</td>\n",
              "      <td>0.267715</td>\n",
              "      <td>0.000220</td>\n",
              "    </tr>\n",
              "    <tr>\n",
              "      <th>4</th>\n",
              "      <td>64</td>\n",
              "      <td>4</td>\n",
              "      <td>0.079258</td>\n",
              "      <td>0.351700</td>\n",
              "      <td>0.000140</td>\n",
              "    </tr>\n",
              "  </tbody>\n",
              "</table>\n",
              "</div>"
            ],
            "text/plain": [
              "   Number of Subcarrier  Signal Constellation  ofdm_std  ofdm_max       BER\n",
              "0                  1024                     4  0.020590  0.119134  0.000120\n",
              "1                   512                     4  0.029397  0.190842  0.000179\n",
              "2                   256                     4  0.044601  0.197412  0.000160\n",
              "3                   128                     4  0.059644  0.267715  0.000220\n",
              "4                    64                     4  0.079258  0.351700  0.000140"
            ]
          },
          "metadata": {
            "tags": []
          },
          "execution_count": 90
        }
      ]
    },
    {
      "cell_type": "code",
      "metadata": {
        "id": "MVyJFtd_64J5"
      },
      "source": [
        "from sklearn.model_selection import train_test_split\n",
        "from sklearn.metrics import classification_report, confusion_matrix\n",
        "from sklearn.metrics import accuracy_score"
      ],
      "execution_count": null,
      "outputs": []
    },
    {
      "cell_type": "code",
      "metadata": {
        "id": "Y3twhjB96uCM"
      },
      "source": [
        "x_train, x_test, y_train, y_test = train_test_split(x,y, test_size = 0.3, random_state = 5)"
      ],
      "execution_count": null,
      "outputs": []
    },
    {
      "cell_type": "code",
      "metadata": {
        "id": "qG3Oe90X7J5p"
      },
      "source": [
        "from sklearn.linear_model import LinearRegression"
      ],
      "execution_count": null,
      "outputs": []
    },
    {
      "cell_type": "code",
      "metadata": {
        "colab": {
          "base_uri": "https://localhost:8080/"
        },
        "id": "iy9WMXtx77Tv",
        "outputId": "e5a68b66-60b0-4e9d-8f9c-70f68a6f3101"
      },
      "source": [
        "linear_model=  LinearRegression()\n",
        "linear_model.fit(x_train,y_train)    #training the model\n",
        "\n",
        "rs_sq = linear_model.score(x_train, y_train);\n",
        "print('coefficient of determination:', rs_sq)\n",
        "print('intercept:', linear_model.intercept_)\n",
        "print('slope:', linear_model.coef_)                 #Printing co-efficients for Table 4\n",
        "\n",
        "predictions = linear_model.predict(x_test)\n",
        "training_acc = linear_model.score(x_train,y_train)\n",
        "validation_acc= linear_model.score(x_test,y_test)\n",
        "\n",
        "print(\"training accuracy: %2f\"%training_acc)        #Printing training and test accuracy\n",
        "print(\"test accuracy: %2f\"%validation_acc)\n",
        "\n",
        "y_pred= linear_model.predict(x_test)    #predicting the bias value\n",
        "\n",
        "print(y_test)\n",
        "print(y_pred)\n",
        "\n",
        "#******Calculating RMSE and R2-square*****\n",
        "mse = np.sum((y_pred - y_test)**2);\n",
        "rmse = np.sqrt(mse/7);\n",
        "sst = np.sum((y_test - np.mean(y_test))**2);\n",
        "r2_score = 1 - (mse/sst);\n",
        "\n",
        "print(\"RMSE Value: %2f\"%rmse)                     #Printing RMSE and R2-square value\n",
        "print(\"R2-square Value: %2f\"%r2_score)"
      ],
      "execution_count": null,
      "outputs": [
        {
          "output_type": "stream",
          "text": [
            "coefficient of determination: 0.8762932389960333\n",
            "intercept: 7.565727304929119\n",
            "slope: [ 6.40136632e-03  4.36914373e-03 -1.34641787e+01  5.51577901e+00\n",
            "  8.03829078e+03]\n",
            "training accuracy: 0.876293\n",
            "test accuracy: 0.741395\n",
            "31    14.0\n",
            "22    23.5\n",
            "3      8.0\n",
            "18    21.0\n",
            "20    23.0\n",
            "5     12.0\n",
            "0      8.0\n",
            "19    21.0\n",
            "23    23.0\n",
            "10    16.0\n",
            "32    14.0\n",
            "Name: Eb/No, dtype: float64\n",
            "[13.63643874 22.53220694 10.84291153 19.36527612 23.50339756 16.07514422\n",
            " 15.47930851 21.9509388  22.09500249 17.70671621 12.75670231]\n",
            "RMSE Value: 3.601696\n",
            "R2-square Value: 0.741395\n"
          ],
          "name": "stdout"
        }
      ]
    }
  ]
}